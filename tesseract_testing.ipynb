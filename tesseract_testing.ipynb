{
 "cells": [
  {
   "cell_type": "code",
   "execution_count": 1,
   "id": "53254f92",
   "metadata": {},
   "outputs": [],
   "source": [
    "import os, pathlib\n",
    "import pytesseract\n",
    "from dotenv import load_dotenv\n",
    "\n",
    "load_dotenv()\n",
    "# pytesseract.pytesseract.tesseract_cmd = default or r\"C:\\Program Files\\Tesseract-OCR\"\n",
    "download_loc = os.environ[\"DOWNLOAD_LOC\"]\n",
    "DOWNLOAD_LOC  = pathlib.Path(download_loc)\n",
    "\n"
   ]
  },
  {
   "cell_type": "code",
   "execution_count": null,
   "id": "7153e293",
   "metadata": {},
   "outputs": [],
   "source": [
    "# This is the most basic method of running it \n",
    "from PIL import Image\n",
    "photo = DOWNLOAD_LOC/'R002.jpg'\n",
    "img = Image.open(photo)\n",
    "text = pytesseract.image_to_string(img)\n",
    "print(text)"
   ]
  },
  {
   "cell_type": "code",
   "execution_count": 12,
   "id": "daeb7d93",
   "metadata": {},
   "outputs": [
    {
     "name": "stdout",
     "output_type": "stream",
     "text": [
      "ALG 49 9G000 41\n",
      "( QACS gon he\n",
      "TERMINAL wD WH\n",
      "\n",
      "2c\n",
      "\n",
      "get \\oieKet3\n",
      "\n",
      "shCtO\n",
      "\n",
      "Nepeat ON 613 4 Or 7269\n",
      "HST qIT 126886RT 001\n",
      "\n",
      "Hessert Cardamom Ras $9.99\n",
      "\n",
      "YOU SAVED $1.00\n",
      "be. a $0.39\n",
      "TOTAL $19.62\n",
      "Visa TENDER $19.62\n",
      "pact: CHANGE $0.00\n",
      "NUMBER OF ITEMS 3\n",
      "\n",
      "soe xx: KAKA OUR SAVINGS 28 % 88H RRR OK\n",
      "Discounts & specials spire LA\n",
      "\n",
      "Your Total Savings $1.7\n",
      "\n",
      "SOR IIH IRI IAI SII KIS II IT ITO TI OT lei\n",
      "\n",
      "SUE NE vain 4\n",
      "\n",
      "{URN YOUR PURCHASES INO REWARDS\n",
      "\n",
      "| Scene+ point could nay\n",
      "this Visite i\n",
      "\n",
      "Sign up for seenet P. Sy\n",
      "1000pts = Pon c\n",
      "or redeem Tere mare wi\n",
      "ap joppl ng, es\n",
      "\n",
      "f.\n",
      "\n",
      "Wee f xx $ 19,62\n",
      "TER ae f RCPT 8962000\n",
      "x OMe RESP O01\n",
      "\n",
      "’ KER T2602 i\n",
      "aR eat\" 905 TINE 17:07:19\n",
      "\n"
     ]
    }
   ],
   "source": [
    "import cv2 \n",
    "custom_config  = r\"--oem 3 --psm 4\"\n",
    "text2 = pytesseract.image_to_string(img,config=custom_config)\n",
    "print(text2)\n",
    "\n",
    "\n"
   ]
  }
 ],
 "metadata": {
  "kernelspec": {
   "display_name": ".slackvenv",
   "language": "python",
   "name": "python3"
  },
  "language_info": {
   "codemirror_mode": {
    "name": "ipython",
    "version": 3
   },
   "file_extension": ".py",
   "mimetype": "text/x-python",
   "name": "python",
   "nbconvert_exporter": "python",
   "pygments_lexer": "ipython3",
   "version": "3.12.8"
  }
 },
 "nbformat": 4,
 "nbformat_minor": 5
}
